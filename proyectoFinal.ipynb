{
  "nbformat": 4,
  "nbformat_minor": 0,
  "metadata": {
    "colab": {
      "provenance": []
    },
    "kernelspec": {
      "name": "python3",
      "display_name": "Python 3"
    },
    "language_info": {
      "name": "python"
    }
  },
  "cells": [
    {
      "cell_type": "markdown",
      "source": [
        "#PROPOSITO DE ESTE CUADERNO:\n",
        "Ser utilizado para el desarrollo del proyecto final del [__certificado profesional \"Ciencia de datos de IBM\"__](https://www.coursera.org/professional-certificates/certificado-profesional-de-ciencia-de-datos-de-ibm) disponible en la plataforma [__Coursera.__](https://www.coursera.org)\n",
        "\n",
        "##Creando el entregable de la semana 1 - (*5% de la nota final*)\n",
        "Corresponde al tema: ***Notebook del Proyecto Final***\n",
        "\n"
      ],
      "metadata": {
        "id": "8nhsfEvtZdRF"
      }
    },
    {
      "cell_type": "code",
      "source": [
        "import pandas as pd\n",
        "import numpy as np"
      ],
      "metadata": {
        "id": "xRaCc_Mg-dJz"
      },
      "execution_count": 1,
      "outputs": []
    },
    {
      "cell_type": "code",
      "source": [
        "print('¡Hola, Proyecto Final del Curso!')"
      ],
      "metadata": {
        "colab": {
          "base_uri": "https://localhost:8080/"
        },
        "id": "DG_S7yj--xqQ",
        "outputId": "2e6a7a19-be7d-49a7-fbe6-c53bed17de47"
      },
      "execution_count": 2,
      "outputs": [
        {
          "output_type": "stream",
          "name": "stdout",
          "text": [
            "¡Hola, Proyecto Final del Curso!\n"
          ]
        }
      ]
    },
    {
      "cell_type": "markdown",
      "source": [
        "* * *\n",
        "##Creando el entregable de la semana 2 - (*10% de la nota final*)\n",
        "Corresponde a un examen sobre Foursquare API"
      ],
      "metadata": {
        "id": "D6i7bI5Han04"
      }
    },
    {
      "cell_type": "markdown",
      "source": [
        "***\n",
        "##Creando el entregable de la semana 3 - (*15% de la nota final*)\n",
        "correspondiente al tema: ***Agrupación y segmentación de vecindarios en la ciudad de Toronto, Canadá***"
      ],
      "metadata": {
        "id": "KoyTC58DWyEW"
      }
    },
    {
      "cell_type": "markdown",
      "source": [
        "Lo primero que toca es agregar las librerias que hace falta para poder realizar la tarea de extraer datos de una url"
      ],
      "metadata": {
        "id": "ehSrlnxBwS4C"
      }
    },
    {
      "cell_type": "code",
      "source": [
        "from bs4 import BeautifulSoup\n",
        "import requests"
      ],
      "metadata": {
        "id": "nsAz2SZYXaL3"
      },
      "execution_count": 3,
      "outputs": []
    },
    {
      "cell_type": "markdown",
      "source": [
        "Luego, debemos obtener el contenido HTML de la página web y procesarlo para obtener la tabla que contiene la información de los códigos postales de Canadá."
      ],
      "metadata": {
        "id": "TKoZGGevxH9R"
      }
    },
    {
      "cell_type": "code",
      "source": [
        "url = 'https://en.wikipedia.org/wiki/List_of_postal_codes_of_Canada:_M'\n",
        "response = requests.get(url)\n",
        "soup = BeautifulSoup(response.text, 'html.parser')\n",
        "table = soup.find('table')"
      ],
      "metadata": {
        "id": "xQ9wlLTqxLA_"
      },
      "execution_count": 4,
      "outputs": []
    },
    {
      "cell_type": "markdown",
      "source": [
        "Una vez que tenemos la tabla, podemos iterar sobre sus filas y columnas para extraer la información de cada celda."
      ],
      "metadata": {
        "id": "XH4b7ZgPxR68"
      }
    },
    {
      "cell_type": "code",
      "source": [
        "data = []\n",
        "\n",
        "# Obtenemos todas las filas omitiendo aquellas que poseen el texto 'Not assigned' y separamos con una ',' los Neighborhoods que pertenecen a un mismo Borough\n",
        "for row in table.find_all('td'):\n",
        "    cell = {}\n",
        "    if row.span.text == 'Not assigned':\n",
        "        pass\n",
        "    else:\n",
        "        cell['PostalCode'] = row.p.text[:3]\n",
        "        cell['Borough'] = (row.span.text).split('(')[0]\n",
        "        cell['Neighborhood'] = (((((row.span.text).split('(')[1]).strip(')')).replace(' /',',')).replace(')',' ')).strip(' ')\n",
        "        data.append(cell)"
      ],
      "metadata": {
        "id": "Np7ErdUkOnoS"
      },
      "execution_count": 5,
      "outputs": []
    },
    {
      "cell_type": "markdown",
      "source": [
        "Finalmente, podemos crear un DataFrame a partir de la lista de datos e imprimir su numero de filas."
      ],
      "metadata": {
        "id": "4NBqPy8KxuJW"
      }
    },
    {
      "cell_type": "code",
      "source": [
        "# Creamos un DataFrame a partir de la lista de datos\n",
        "df = pd.DataFrame(data)\n",
        "\n",
        "# Imprimimos el número de filas del DataFrame\n",
        "print('Número de filas:', df.shape[0])"
      ],
      "metadata": {
        "colab": {
          "base_uri": "https://localhost:8080/"
        },
        "id": "2ehxa5IZxzoE",
        "outputId": "1ec7e52d-16db-4a19-cb8f-566bb3071d7a"
      },
      "execution_count": 6,
      "outputs": [
        {
          "output_type": "stream",
          "name": "stdout",
          "text": [
            "Número de filas: 103\n"
          ]
        }
      ]
    },
    {
      "cell_type": "markdown",
      "source": [
        "Dataframe resultante:"
      ],
      "metadata": {
        "id": "wv6ByhlXyC8q"
      }
    },
    {
      "cell_type": "code",
      "source": [
        "df.head()"
      ],
      "metadata": {
        "colab": {
          "base_uri": "https://localhost:8080/",
          "height": 206
        },
        "id": "lGDYW7BSyHPb",
        "outputId": "b95426d3-cb6f-4c79-8f26-7fc6b3e9f161"
      },
      "execution_count": 8,
      "outputs": [
        {
          "output_type": "execute_result",
          "data": {
            "text/plain": [
              "  PostalCode           Borough                      Neighborhood\n",
              "0        M3A        North York                         Parkwoods\n",
              "1        M4A        North York                  Victoria Village\n",
              "2        M5A  Downtown Toronto         Regent Park, Harbourfront\n",
              "3        M6A        North York  Lawrence Manor, Lawrence Heights\n",
              "4        M7A      Queen's Park     Ontario Provincial Government"
            ],
            "text/html": [
              "\n",
              "  <div id=\"df-9b39a9b6-0f17-4f30-91fa-fc35608c9f86\">\n",
              "    <div class=\"colab-df-container\">\n",
              "      <div>\n",
              "<style scoped>\n",
              "    .dataframe tbody tr th:only-of-type {\n",
              "        vertical-align: middle;\n",
              "    }\n",
              "\n",
              "    .dataframe tbody tr th {\n",
              "        vertical-align: top;\n",
              "    }\n",
              "\n",
              "    .dataframe thead th {\n",
              "        text-align: right;\n",
              "    }\n",
              "</style>\n",
              "<table border=\"1\" class=\"dataframe\">\n",
              "  <thead>\n",
              "    <tr style=\"text-align: right;\">\n",
              "      <th></th>\n",
              "      <th>PostalCode</th>\n",
              "      <th>Borough</th>\n",
              "      <th>Neighborhood</th>\n",
              "    </tr>\n",
              "  </thead>\n",
              "  <tbody>\n",
              "    <tr>\n",
              "      <th>0</th>\n",
              "      <td>M3A</td>\n",
              "      <td>North York</td>\n",
              "      <td>Parkwoods</td>\n",
              "    </tr>\n",
              "    <tr>\n",
              "      <th>1</th>\n",
              "      <td>M4A</td>\n",
              "      <td>North York</td>\n",
              "      <td>Victoria Village</td>\n",
              "    </tr>\n",
              "    <tr>\n",
              "      <th>2</th>\n",
              "      <td>M5A</td>\n",
              "      <td>Downtown Toronto</td>\n",
              "      <td>Regent Park, Harbourfront</td>\n",
              "    </tr>\n",
              "    <tr>\n",
              "      <th>3</th>\n",
              "      <td>M6A</td>\n",
              "      <td>North York</td>\n",
              "      <td>Lawrence Manor, Lawrence Heights</td>\n",
              "    </tr>\n",
              "    <tr>\n",
              "      <th>4</th>\n",
              "      <td>M7A</td>\n",
              "      <td>Queen's Park</td>\n",
              "      <td>Ontario Provincial Government</td>\n",
              "    </tr>\n",
              "  </tbody>\n",
              "</table>\n",
              "</div>\n",
              "      <button class=\"colab-df-convert\" onclick=\"convertToInteractive('df-9b39a9b6-0f17-4f30-91fa-fc35608c9f86')\"\n",
              "              title=\"Convert this dataframe to an interactive table.\"\n",
              "              style=\"display:none;\">\n",
              "        \n",
              "  <svg xmlns=\"http://www.w3.org/2000/svg\" height=\"24px\"viewBox=\"0 0 24 24\"\n",
              "       width=\"24px\">\n",
              "    <path d=\"M0 0h24v24H0V0z\" fill=\"none\"/>\n",
              "    <path d=\"M18.56 5.44l.94 2.06.94-2.06 2.06-.94-2.06-.94-.94-2.06-.94 2.06-2.06.94zm-11 1L8.5 8.5l.94-2.06 2.06-.94-2.06-.94L8.5 2.5l-.94 2.06-2.06.94zm10 10l.94 2.06.94-2.06 2.06-.94-2.06-.94-.94-2.06-.94 2.06-2.06.94z\"/><path d=\"M17.41 7.96l-1.37-1.37c-.4-.4-.92-.59-1.43-.59-.52 0-1.04.2-1.43.59L10.3 9.45l-7.72 7.72c-.78.78-.78 2.05 0 2.83L4 21.41c.39.39.9.59 1.41.59.51 0 1.02-.2 1.41-.59l7.78-7.78 2.81-2.81c.8-.78.8-2.07 0-2.86zM5.41 20L4 18.59l7.72-7.72 1.47 1.35L5.41 20z\"/>\n",
              "  </svg>\n",
              "      </button>\n",
              "      \n",
              "  <style>\n",
              "    .colab-df-container {\n",
              "      display:flex;\n",
              "      flex-wrap:wrap;\n",
              "      gap: 12px;\n",
              "    }\n",
              "\n",
              "    .colab-df-convert {\n",
              "      background-color: #E8F0FE;\n",
              "      border: none;\n",
              "      border-radius: 50%;\n",
              "      cursor: pointer;\n",
              "      display: none;\n",
              "      fill: #1967D2;\n",
              "      height: 32px;\n",
              "      padding: 0 0 0 0;\n",
              "      width: 32px;\n",
              "    }\n",
              "\n",
              "    .colab-df-convert:hover {\n",
              "      background-color: #E2EBFA;\n",
              "      box-shadow: 0px 1px 2px rgba(60, 64, 67, 0.3), 0px 1px 3px 1px rgba(60, 64, 67, 0.15);\n",
              "      fill: #174EA6;\n",
              "    }\n",
              "\n",
              "    [theme=dark] .colab-df-convert {\n",
              "      background-color: #3B4455;\n",
              "      fill: #D2E3FC;\n",
              "    }\n",
              "\n",
              "    [theme=dark] .colab-df-convert:hover {\n",
              "      background-color: #434B5C;\n",
              "      box-shadow: 0px 1px 3px 1px rgba(0, 0, 0, 0.15);\n",
              "      filter: drop-shadow(0px 1px 2px rgba(0, 0, 0, 0.3));\n",
              "      fill: #FFFFFF;\n",
              "    }\n",
              "  </style>\n",
              "\n",
              "      <script>\n",
              "        const buttonEl =\n",
              "          document.querySelector('#df-9b39a9b6-0f17-4f30-91fa-fc35608c9f86 button.colab-df-convert');\n",
              "        buttonEl.style.display =\n",
              "          google.colab.kernel.accessAllowed ? 'block' : 'none';\n",
              "\n",
              "        async function convertToInteractive(key) {\n",
              "          const element = document.querySelector('#df-9b39a9b6-0f17-4f30-91fa-fc35608c9f86');\n",
              "          const dataTable =\n",
              "            await google.colab.kernel.invokeFunction('convertToInteractive',\n",
              "                                                     [key], {});\n",
              "          if (!dataTable) return;\n",
              "\n",
              "          const docLinkHtml = 'Like what you see? Visit the ' +\n",
              "            '<a target=\"_blank\" href=https://colab.research.google.com/notebooks/data_table.ipynb>data table notebook</a>'\n",
              "            + ' to learn more about interactive tables.';\n",
              "          element.innerHTML = '';\n",
              "          dataTable['output_type'] = 'display_data';\n",
              "          await google.colab.output.renderOutput(dataTable, element);\n",
              "          const docLink = document.createElement('div');\n",
              "          docLink.innerHTML = docLinkHtml;\n",
              "          element.appendChild(docLink);\n",
              "        }\n",
              "      </script>\n",
              "    </div>\n",
              "  </div>\n",
              "  "
            ]
          },
          "metadata": {},
          "execution_count": 8
        }
      ]
    },
    {
      "cell_type": "code",
      "source": [
        "# Guardando dataframe actual en un archivo .csv -- Hasta este punto esta cubierto el primer entregable con ponderacion maxima de 10 puntos\n",
        "df.to_csv('df_week3_10-points.csv', index=False)"
      ],
      "metadata": {
        "id": "fOuqdQ6Lhfqn"
      },
      "execution_count": 10,
      "outputs": []
    },
    {
      "cell_type": "markdown",
      "source": [
        "Para agregar las columnas Latitud y Longitud al dataframe existente usando la columna PostalCode como clave de unión, haremos lo siguiente:\n",
        "\n",
        "1. Cargar el archivo Geospatial_Coordinates.csv en un nuevo dataframe, usando la función pandas.read_csv(). \n",
        "IMPORTANTE!!! Debemos asegurarnos que la columna PostalCode tenga el mismo nombre en ambos dataframes."
      ],
      "metadata": {
        "id": "rD03CYREW1nT"
      }
    },
    {
      "cell_type": "code",
      "source": [
        "# Carga el archivo CSV en un nuevo dataframe\n",
        "df_lat_long = pd.read_csv('Geospatial_Coordinates.csv')"
      ],
      "metadata": {
        "id": "s3iReEQml3Ee"
      },
      "execution_count": 11,
      "outputs": []
    },
    {
      "cell_type": "markdown",
      "source": [
        "2. Usar la función merge() de Pandas para unir los dos dataframes en función de la columna PostalCode."
      ],
      "metadata": {
        "id": "tuIbrVbwmKg-"
      }
    },
    {
      "cell_type": "code",
      "source": [
        "# Fusiona los dos dataframes en base a la columna PostalCode\n",
        "df_merged = pd.merge(df, df_lat_long, on='PostalCode', how='left')"
      ],
      "metadata": {
        "id": "kTNXvWL2mVux"
      },
      "execution_count": 12,
      "outputs": []
    },
    {
      "cell_type": "markdown",
      "source": [
        "La función merge() toma dos dataframes y los une en función de una columna común, en este caso, PostalCode. La opción how='left' indica que se conservarán todas las filas del dataframe original y las filas que no tienen una coincidencia en el dataframe de latitud y longitud se rellenarán con valores nulos."
      ],
      "metadata": {
        "id": "FhVTI0dYmcOr"
      }
    },
    {
      "cell_type": "markdown",
      "source": [
        "3. Verificar que se hayan agregado correctamente las columnas Latitud y Longitud al dataframe fusionado."
      ],
      "metadata": {
        "id": "qZCj4HaDnF1c"
      }
    },
    {
      "cell_type": "code",
      "source": [
        "# Verificando que se hayan agregado las columnas Latitud y Longitud\n",
        "print(df_merged.head())"
      ],
      "metadata": {
        "colab": {
          "base_uri": "https://localhost:8080/"
        },
        "id": "lUCF3H_TnQ18",
        "outputId": "b6867237-7e6e-4d90-8649-63fc88462c6d"
      },
      "execution_count": 13,
      "outputs": [
        {
          "output_type": "stream",
          "name": "stdout",
          "text": [
            "  PostalCode           Borough                      Neighborhood   Latitude  \\\n",
            "0        M3A        North York                         Parkwoods  43.753259   \n",
            "1        M4A        North York                  Victoria Village  43.725882   \n",
            "2        M5A  Downtown Toronto         Regent Park, Harbourfront  43.654260   \n",
            "3        M6A        North York  Lawrence Manor, Lawrence Heights  43.718518   \n",
            "4        M7A      Queen's Park     Ontario Provincial Government  43.662301   \n",
            "\n",
            "   Longitude  \n",
            "0 -79.329656  \n",
            "1 -79.315572  \n",
            "2 -79.360636  \n",
            "3 -79.464763  \n",
            "4 -79.389494  \n"
          ]
        }
      ]
    },
    {
      "cell_type": "code",
      "source": [
        "# Guardando df fusionado --- Hasta este punto esta cubierto el segundo entregable con ponderacion maxima de 2 puntos\n",
        "df_merged.to_csv('df_merged_for_week-3.csv', index=False)"
      ],
      "metadata": {
        "id": "bTcAoIGknllR"
      },
      "execution_count": 14,
      "outputs": []
    },
    {
      "cell_type": "markdown",
      "source": [
        "En Python, hay varias librerías que podemos usar para explorar y visualizar datos. Para este caso, utilizaré pandas y folium.\n",
        "\n",
        "Primero, vamos a importar la librería folium y usaremos el dataframe fusionado elaborado en el paso anterior"
      ],
      "metadata": {
        "id": "sswqOt4MuxBk"
      }
    },
    {
      "cell_type": "code",
      "source": [
        "import folium"
      ],
      "metadata": {
        "id": "E70swPMivbcz"
      },
      "execution_count": 15,
      "outputs": []
    },
    {
      "cell_type": "markdown",
      "source": [
        "La columna 'Borough' contiene los nombres de los municipios, podemos crear una nueva columna que contenga un valor booleano indicando si el valor contiene 'Toronto' o no:"
      ],
      "metadata": {
        "id": "e4q_w8tRvojF"
      }
    },
    {
      "cell_type": "code",
      "source": [
        "df_merged['Toronto'] = df_merged['Borough'].str.contains('Toronto')\n"
      ],
      "metadata": {
        "id": "0ygBbRp9wL3v"
      },
      "execution_count": 16,
      "outputs": []
    },
    {
      "cell_type": "markdown",
      "source": [
        "Luego, podemos filtrar el dataframe para obtener sólo las filas que contengan 'Toronto':"
      ],
      "metadata": {
        "id": "eLthv9zqwjNr"
      }
    },
    {
      "cell_type": "code",
      "source": [
        "toronto_df = df_merged[df_merged['Toronto'] == True]\n"
      ],
      "metadata": {
        "id": "KO03SBZlwmY2"
      },
      "execution_count": 17,
      "outputs": []
    },
    {
      "cell_type": "markdown",
      "source": [
        "Ahora, podemos agrupar por municipio (Borough):"
      ],
      "metadata": {
        "id": "YVCAvva2wuyP"
      }
    },
    {
      "cell_type": "code",
      "source": [
        "grouped_df = toronto_df.groupby(['Borough']).agg({'PostalCode': 'count', 'Latitude': 'mean', 'Longitude': 'mean'})\n",
        "grouped_df.rename(columns={'PostalCode': 'Cantidad'}, inplace=True)"
      ],
      "metadata": {
        "id": "jz4DLxB8w257"
      },
      "execution_count": 19,
      "outputs": []
    },
    {
      "cell_type": "markdown",
      "source": [
        "Esto nos dará un nuevo dataframe llamado grouped_df que contiene la cantidad de códigos postales por barrio, así como la latitud y longitud promedio para cada barrio.\n",
        "\n",
        "Finalmente, podemos crear un mapa utilizando folium:"
      ],
      "metadata": {
        "id": "OhP_UIsSxDo4"
      }
    },
    {
      "cell_type": "code",
      "source": [
        "mapa = folium.Map(location=[43.6532, -79.3832], zoom_start=12)\n",
        "\n",
        "for lat, lng, borough in zip(grouped_df['Latitude'], grouped_df['Longitude'], grouped_df.index):\n",
        "    label = folium.Popup(borough, parse_html=True)\n",
        "    folium.CircleMarker(\n",
        "        [lat, lng],\n",
        "        radius=5,\n",
        "        popup=label,\n",
        "        color='blue',\n",
        "        fill=True,\n",
        "        fill_color='#3186cc',\n",
        "        fill_opacity=0.7,\n",
        "        parse_html=False).add_to(mapa)\n",
        "\n",
        "mapa"
      ],
      "metadata": {
        "colab": {
          "base_uri": "https://localhost:8080/",
          "height": 664
        },
        "id": "ad840Vo5xRF2",
        "outputId": "bead7919-b5cc-4cb2-d766-f9980a674dbe"
      },
      "execution_count": 20,
      "outputs": [
        {
          "output_type": "execute_result",
          "data": {
            "text/plain": [
              "<folium.folium.Map at 0x7f24245689a0>"
            ],
            "text/html": [
              "<div style=\"width:100%;\"><div style=\"position:relative;width:100%;height:0;padding-bottom:60%;\"><span style=\"color:#565656\">Make this Notebook Trusted to load map: File -> Trust Notebook</span><iframe srcdoc=\"&lt;!DOCTYPE html&gt;\n",
              "&lt;html&gt;\n",
              "&lt;head&gt;\n",
              "    \n",
              "    &lt;meta http-equiv=&quot;content-type&quot; content=&quot;text/html; charset=UTF-8&quot; /&gt;\n",
              "    \n",
              "        &lt;script&gt;\n",
              "            L_NO_TOUCH = false;\n",
              "            L_DISABLE_3D = false;\n",
              "        &lt;/script&gt;\n",
              "    \n",
              "    &lt;style&gt;html, body {width: 100%;height: 100%;margin: 0;padding: 0;}&lt;/style&gt;\n",
              "    &lt;style&gt;#map {position:absolute;top:0;bottom:0;right:0;left:0;}&lt;/style&gt;\n",
              "    &lt;script src=&quot;https://cdn.jsdelivr.net/npm/leaflet@1.9.3/dist/leaflet.js&quot;&gt;&lt;/script&gt;\n",
              "    &lt;script src=&quot;https://code.jquery.com/jquery-1.12.4.min.js&quot;&gt;&lt;/script&gt;\n",
              "    &lt;script src=&quot;https://cdn.jsdelivr.net/npm/bootstrap@5.2.2/dist/js/bootstrap.bundle.min.js&quot;&gt;&lt;/script&gt;\n",
              "    &lt;script src=&quot;https://cdnjs.cloudflare.com/ajax/libs/Leaflet.awesome-markers/2.0.2/leaflet.awesome-markers.js&quot;&gt;&lt;/script&gt;\n",
              "    &lt;link rel=&quot;stylesheet&quot; href=&quot;https://cdn.jsdelivr.net/npm/leaflet@1.9.3/dist/leaflet.css&quot;/&gt;\n",
              "    &lt;link rel=&quot;stylesheet&quot; href=&quot;https://cdn.jsdelivr.net/npm/bootstrap@5.2.2/dist/css/bootstrap.min.css&quot;/&gt;\n",
              "    &lt;link rel=&quot;stylesheet&quot; href=&quot;https://netdna.bootstrapcdn.com/bootstrap/3.0.0/css/bootstrap.min.css&quot;/&gt;\n",
              "    &lt;link rel=&quot;stylesheet&quot; href=&quot;https://cdn.jsdelivr.net/npm/@fortawesome/fontawesome-free@6.2.0/css/all.min.css&quot;/&gt;\n",
              "    &lt;link rel=&quot;stylesheet&quot; href=&quot;https://cdnjs.cloudflare.com/ajax/libs/Leaflet.awesome-markers/2.0.2/leaflet.awesome-markers.css&quot;/&gt;\n",
              "    &lt;link rel=&quot;stylesheet&quot; href=&quot;https://cdn.jsdelivr.net/gh/python-visualization/folium/folium/templates/leaflet.awesome.rotate.min.css&quot;/&gt;\n",
              "    \n",
              "            &lt;meta name=&quot;viewport&quot; content=&quot;width=device-width,\n",
              "                initial-scale=1.0, maximum-scale=1.0, user-scalable=no&quot; /&gt;\n",
              "            &lt;style&gt;\n",
              "                #map_52456dd463d060ce293a405f9417c03b {\n",
              "                    position: relative;\n",
              "                    width: 100.0%;\n",
              "                    height: 100.0%;\n",
              "                    left: 0.0%;\n",
              "                    top: 0.0%;\n",
              "                }\n",
              "                .leaflet-container { font-size: 1rem; }\n",
              "            &lt;/style&gt;\n",
              "        \n",
              "&lt;/head&gt;\n",
              "&lt;body&gt;\n",
              "    \n",
              "    \n",
              "            &lt;div class=&quot;folium-map&quot; id=&quot;map_52456dd463d060ce293a405f9417c03b&quot; &gt;&lt;/div&gt;\n",
              "        \n",
              "&lt;/body&gt;\n",
              "&lt;script&gt;\n",
              "    \n",
              "    \n",
              "            var map_52456dd463d060ce293a405f9417c03b = L.map(\n",
              "                &quot;map_52456dd463d060ce293a405f9417c03b&quot;,\n",
              "                {\n",
              "                    center: [43.6532, -79.3832],\n",
              "                    crs: L.CRS.EPSG3857,\n",
              "                    zoom: 12,\n",
              "                    zoomControl: true,\n",
              "                    preferCanvas: false,\n",
              "                }\n",
              "            );\n",
              "\n",
              "            \n",
              "\n",
              "        \n",
              "    \n",
              "            var tile_layer_e4cefaebc3edbf1f7ddd1a3d8bf1a149 = L.tileLayer(\n",
              "                &quot;https://{s}.tile.openstreetmap.org/{z}/{x}/{y}.png&quot;,\n",
              "                {&quot;attribution&quot;: &quot;Data by \\u0026copy; \\u003ca target=\\&quot;_blank\\&quot; href=\\&quot;http://openstreetmap.org\\&quot;\\u003eOpenStreetMap\\u003c/a\\u003e, under \\u003ca target=\\&quot;_blank\\&quot; href=\\&quot;http://www.openstreetmap.org/copyright\\&quot;\\u003eODbL\\u003c/a\\u003e.&quot;, &quot;detectRetina&quot;: false, &quot;maxNativeZoom&quot;: 18, &quot;maxZoom&quot;: 18, &quot;minZoom&quot;: 0, &quot;noWrap&quot;: false, &quot;opacity&quot;: 1, &quot;subdomains&quot;: &quot;abc&quot;, &quot;tms&quot;: false}\n",
              "            ).addTo(map_52456dd463d060ce293a405f9417c03b);\n",
              "        \n",
              "    \n",
              "            var circle_marker_222ee647ef122cf6b69297f55c34fd3d = L.circleMarker(\n",
              "                [43.70197978888889, -79.39895405555555],\n",
              "                {&quot;bubblingMouseEvents&quot;: true, &quot;color&quot;: &quot;blue&quot;, &quot;dashArray&quot;: null, &quot;dashOffset&quot;: null, &quot;fill&quot;: true, &quot;fillColor&quot;: &quot;#3186cc&quot;, &quot;fillOpacity&quot;: 0.7, &quot;fillRule&quot;: &quot;evenodd&quot;, &quot;lineCap&quot;: &quot;round&quot;, &quot;lineJoin&quot;: &quot;round&quot;, &quot;opacity&quot;: 1.0, &quot;radius&quot;: 5, &quot;stroke&quot;: true, &quot;weight&quot;: 3}\n",
              "            ).addTo(map_52456dd463d060ce293a405f9417c03b);\n",
              "        \n",
              "    \n",
              "        var popup_74d3d72f20d5ffbbfaad13e4acdde1c7 = L.popup({&quot;maxWidth&quot;: &quot;100%&quot;});\n",
              "\n",
              "        \n",
              "            \n",
              "                var html_91543927d8a828129155fb740f6be4f5 = $(`&lt;div id=&quot;html_91543927d8a828129155fb740f6be4f5&quot; style=&quot;width: 100.0%; height: 100.0%;&quot;&gt;Central Toronto&lt;/div&gt;`)[0];\n",
              "                popup_74d3d72f20d5ffbbfaad13e4acdde1c7.setContent(html_91543927d8a828129155fb740f6be4f5);\n",
              "            \n",
              "        \n",
              "\n",
              "        circle_marker_222ee647ef122cf6b69297f55c34fd3d.bindPopup(popup_74d3d72f20d5ffbbfaad13e4acdde1c7)\n",
              "        ;\n",
              "\n",
              "        \n",
              "    \n",
              "    \n",
              "            var circle_marker_d27bd1bc87e3016620feb3e145ac54e4 = L.circleMarker(\n",
              "                [43.6546241, -79.38418352941177],\n",
              "                {&quot;bubblingMouseEvents&quot;: true, &quot;color&quot;: &quot;blue&quot;, &quot;dashArray&quot;: null, &quot;dashOffset&quot;: null, &quot;fill&quot;: true, &quot;fillColor&quot;: &quot;#3186cc&quot;, &quot;fillOpacity&quot;: 0.7, &quot;fillRule&quot;: &quot;evenodd&quot;, &quot;lineCap&quot;: &quot;round&quot;, &quot;lineJoin&quot;: &quot;round&quot;, &quot;opacity&quot;: 1.0, &quot;radius&quot;: 5, &quot;stroke&quot;: true, &quot;weight&quot;: 3}\n",
              "            ).addTo(map_52456dd463d060ce293a405f9417c03b);\n",
              "        \n",
              "    \n",
              "        var popup_fc6a3c5ba673998460653daae78c4c15 = L.popup({&quot;maxWidth&quot;: &quot;100%&quot;});\n",
              "\n",
              "        \n",
              "            \n",
              "                var html_75777b0828129429fcdd5224680a90f9 = $(`&lt;div id=&quot;html_75777b0828129429fcdd5224680a90f9&quot; style=&quot;width: 100.0%; height: 100.0%;&quot;&gt;Downtown Toronto&lt;/div&gt;`)[0];\n",
              "                popup_fc6a3c5ba673998460653daae78c4c15.setContent(html_75777b0828129429fcdd5224680a90f9);\n",
              "            \n",
              "        \n",
              "\n",
              "        circle_marker_d27bd1bc87e3016620feb3e145ac54e4.bindPopup(popup_fc6a3c5ba673998460653daae78c4c15)\n",
              "        ;\n",
              "\n",
              "        \n",
              "    \n",
              "    \n",
              "            var circle_marker_f82cc3a239f1e8d6ca610df89080ba65 = L.circleMarker(\n",
              "                [43.6464352, -79.374846],\n",
              "                {&quot;bubblingMouseEvents&quot;: true, &quot;color&quot;: &quot;blue&quot;, &quot;dashArray&quot;: null, &quot;dashOffset&quot;: null, &quot;fill&quot;: true, &quot;fillColor&quot;: &quot;#3186cc&quot;, &quot;fillOpacity&quot;: 0.7, &quot;fillRule&quot;: &quot;evenodd&quot;, &quot;lineCap&quot;: &quot;round&quot;, &quot;lineJoin&quot;: &quot;round&quot;, &quot;opacity&quot;: 1.0, &quot;radius&quot;: 5, &quot;stroke&quot;: true, &quot;weight&quot;: 3}\n",
              "            ).addTo(map_52456dd463d060ce293a405f9417c03b);\n",
              "        \n",
              "    \n",
              "        var popup_ee65b535382000072cdd2057d18e1d71 = L.popup({&quot;maxWidth&quot;: &quot;100%&quot;});\n",
              "\n",
              "        \n",
              "            \n",
              "                var html_02f8d1b55c8f82b97056a278c832e647 = $(`&lt;div id=&quot;html_02f8d1b55c8f82b97056a278c832e647&quot; style=&quot;width: 100.0%; height: 100.0%;&quot;&gt;Downtown TorontoStn A PO Boxes25 The Esplanade&lt;/div&gt;`)[0];\n",
              "                popup_ee65b535382000072cdd2057d18e1d71.setContent(html_02f8d1b55c8f82b97056a278c832e647);\n",
              "            \n",
              "        \n",
              "\n",
              "        circle_marker_f82cc3a239f1e8d6ca610df89080ba65.bindPopup(popup_ee65b535382000072cdd2057d18e1d71)\n",
              "        ;\n",
              "\n",
              "        \n",
              "    \n",
              "    \n",
              "            var circle_marker_96ce347080e665fe4a4b93439911afc6 = L.circleMarker(\n",
              "                [43.671109625, -79.32542845],\n",
              "                {&quot;bubblingMouseEvents&quot;: true, &quot;color&quot;: &quot;blue&quot;, &quot;dashArray&quot;: null, &quot;dashOffset&quot;: null, &quot;fill&quot;: true, &quot;fillColor&quot;: &quot;#3186cc&quot;, &quot;fillOpacity&quot;: 0.7, &quot;fillRule&quot;: &quot;evenodd&quot;, &quot;lineCap&quot;: &quot;round&quot;, &quot;lineJoin&quot;: &quot;round&quot;, &quot;opacity&quot;: 1.0, &quot;radius&quot;: 5, &quot;stroke&quot;: true, &quot;weight&quot;: 3}\n",
              "            ).addTo(map_52456dd463d060ce293a405f9417c03b);\n",
              "        \n",
              "    \n",
              "        var popup_b2ffd719bc4f9a5dfa32b070a83732b3 = L.popup({&quot;maxWidth&quot;: &quot;100%&quot;});\n",
              "\n",
              "        \n",
              "            \n",
              "                var html_a3e42ee8fc525d70af7d23b147334225 = $(`&lt;div id=&quot;html_a3e42ee8fc525d70af7d23b147334225&quot; style=&quot;width: 100.0%; height: 100.0%;&quot;&gt;East Toronto&lt;/div&gt;`)[0];\n",
              "                popup_b2ffd719bc4f9a5dfa32b070a83732b3.setContent(html_a3e42ee8fc525d70af7d23b147334225);\n",
              "            \n",
              "        \n",
              "\n",
              "        circle_marker_96ce347080e665fe4a4b93439911afc6.bindPopup(popup_b2ffd719bc4f9a5dfa32b070a83732b3)\n",
              "        ;\n",
              "\n",
              "        \n",
              "    \n",
              "    \n",
              "            var circle_marker_2be7bf07c71506b6eae995c629a5299a = L.circleMarker(\n",
              "                [43.6627439, -79.321558],\n",
              "                {&quot;bubblingMouseEvents&quot;: true, &quot;color&quot;: &quot;blue&quot;, &quot;dashArray&quot;: null, &quot;dashOffset&quot;: null, &quot;fill&quot;: true, &quot;fillColor&quot;: &quot;#3186cc&quot;, &quot;fillOpacity&quot;: 0.7, &quot;fillRule&quot;: &quot;evenodd&quot;, &quot;lineCap&quot;: &quot;round&quot;, &quot;lineJoin&quot;: &quot;round&quot;, &quot;opacity&quot;: 1.0, &quot;radius&quot;: 5, &quot;stroke&quot;: true, &quot;weight&quot;: 3}\n",
              "            ).addTo(map_52456dd463d060ce293a405f9417c03b);\n",
              "        \n",
              "    \n",
              "        var popup_98e9c6d1f4bd6576ddbb4ed9fec421ed = L.popup({&quot;maxWidth&quot;: &quot;100%&quot;});\n",
              "\n",
              "        \n",
              "            \n",
              "                var html_33c2aec6e0ce54585d952ef392545c49 = $(`&lt;div id=&quot;html_33c2aec6e0ce54585d952ef392545c49&quot; style=&quot;width: 100.0%; height: 100.0%;&quot;&gt;East TorontoBusiness reply mail Processing Centre969 Eastern&lt;/div&gt;`)[0];\n",
              "                popup_98e9c6d1f4bd6576ddbb4ed9fec421ed.setContent(html_33c2aec6e0ce54585d952ef392545c49);\n",
              "            \n",
              "        \n",
              "\n",
              "        circle_marker_2be7bf07c71506b6eae995c629a5299a.bindPopup(popup_98e9c6d1f4bd6576ddbb4ed9fec421ed)\n",
              "        ;\n",
              "\n",
              "        \n",
              "    \n",
              "    \n",
              "            var circle_marker_6688e065447719d047a18a4e02b7e018 = L.circleMarker(\n",
              "                [43.685347, -79.3381065],\n",
              "                {&quot;bubblingMouseEvents&quot;: true, &quot;color&quot;: &quot;blue&quot;, &quot;dashArray&quot;: null, &quot;dashOffset&quot;: null, &quot;fill&quot;: true, &quot;fillColor&quot;: &quot;#3186cc&quot;, &quot;fillOpacity&quot;: 0.7, &quot;fillRule&quot;: &quot;evenodd&quot;, &quot;lineCap&quot;: &quot;round&quot;, &quot;lineJoin&quot;: &quot;round&quot;, &quot;opacity&quot;: 1.0, &quot;radius&quot;: 5, &quot;stroke&quot;: true, &quot;weight&quot;: 3}\n",
              "            ).addTo(map_52456dd463d060ce293a405f9417c03b);\n",
              "        \n",
              "    \n",
              "        var popup_b4cc0ac59a50a9c72648f9e47469993c = L.popup({&quot;maxWidth&quot;: &quot;100%&quot;});\n",
              "\n",
              "        \n",
              "            \n",
              "                var html_bd5cdb4d7778b1971e383dda3cbb28d7 = $(`&lt;div id=&quot;html_bd5cdb4d7778b1971e383dda3cbb28d7&quot; style=&quot;width: 100.0%; height: 100.0%;&quot;&gt;East YorkEast Toronto&lt;/div&gt;`)[0];\n",
              "                popup_b4cc0ac59a50a9c72648f9e47469993c.setContent(html_bd5cdb4d7778b1971e383dda3cbb28d7);\n",
              "            \n",
              "        \n",
              "\n",
              "        circle_marker_6688e065447719d047a18a4e02b7e018.bindPopup(popup_b4cc0ac59a50a9c72648f9e47469993c)\n",
              "        ;\n",
              "\n",
              "        \n",
              "    \n",
              "    \n",
              "            var circle_marker_515cb19d5aa7afff642b51dfdf3c7a55 = L.circleMarker(\n",
              "                [43.652652933333336, -79.44928976666667],\n",
              "                {&quot;bubblingMouseEvents&quot;: true, &quot;color&quot;: &quot;blue&quot;, &quot;dashArray&quot;: null, &quot;dashOffset&quot;: null, &quot;fill&quot;: true, &quot;fillColor&quot;: &quot;#3186cc&quot;, &quot;fillOpacity&quot;: 0.7, &quot;fillRule&quot;: &quot;evenodd&quot;, &quot;lineCap&quot;: &quot;round&quot;, &quot;lineJoin&quot;: &quot;round&quot;, &quot;opacity&quot;: 1.0, &quot;radius&quot;: 5, &quot;stroke&quot;: true, &quot;weight&quot;: 3}\n",
              "            ).addTo(map_52456dd463d060ce293a405f9417c03b);\n",
              "        \n",
              "    \n",
              "        var popup_ca6d2f4569663d38f249e9984e677711 = L.popup({&quot;maxWidth&quot;: &quot;100%&quot;});\n",
              "\n",
              "        \n",
              "            \n",
              "                var html_f717d422a07008834bb0e90f5146ee49 = $(`&lt;div id=&quot;html_f717d422a07008834bb0e90f5146ee49&quot; style=&quot;width: 100.0%; height: 100.0%;&quot;&gt;West Toronto&lt;/div&gt;`)[0];\n",
              "                popup_ca6d2f4569663d38f249e9984e677711.setContent(html_f717d422a07008834bb0e90f5146ee49);\n",
              "            \n",
              "        \n",
              "\n",
              "        circle_marker_515cb19d5aa7afff642b51dfdf3c7a55.bindPopup(popup_ca6d2f4569663d38f249e9984e677711)\n",
              "        ;\n",
              "\n",
              "        \n",
              "    \n",
              "&lt;/script&gt;\n",
              "&lt;/html&gt;\" style=\"position:absolute;width:100%;height:100%;left:0;top:0;border:none !important;\" allowfullscreen webkitallowfullscreen mozallowfullscreen></iframe></div></div>"
            ]
          },
          "metadata": {},
          "execution_count": 20
        }
      ]
    },
    {
      "cell_type": "markdown",
      "source": [
        "Esto creó un mapa centrado en Toronto con marcadores para cada municipio, donde el tamaño y el color de cada marcador indica la cantidad de códigos postales en ese municipio.\n",
        "\n",
        "Con esto concluye la tercera parte de este entregable. La parte del mapa tiene una ponderacion maxima de 3 puntos."
      ],
      "metadata": {
        "id": "nQHcFDqsxjSa"
      }
    }
  ]
}